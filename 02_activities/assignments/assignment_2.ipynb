{
 "cells": [
  {
   "cell_type": "markdown",
   "metadata": {},
   "source": [
    "# Practice Interview\n",
    "\n",
    "## Objective\n",
    "\n",
    "_*The partner assignment aims to provide participants with the opportunity to practice coding in an interview context. You will analyze your partner's Assignment 1. Moreover, code reviews are common practice in a software development team. This assignment should give you a taste of the code review process.*_\n",
    "\n",
    "## Group Size\n",
    "\n",
    "Each group should have 2 people. You will be assigned a partner\n",
    "\n",
    "## Part 1:\n",
    "\n",
    "You and your partner must share each other's Assignment 1 submission."
   ]
  },
  {
   "cell_type": "markdown",
   "metadata": {},
   "source": [
    "\n",
    "## Part 2:\n",
    "\n",
    "Create a Jupyter Notebook, create 6 of the following headings, and complete the following for your partner's assignment 1:\n",
    "\n",
    "-   Paraphrase the problem in your own words.\n"
   ]
  },
  {
   "cell_type": "code",
   "execution_count": null,
   "metadata": {},
   "outputs": [],
   "source": [
    "# search through a binary tree for duplicates. If there are, output the duplicate value closest to the root, and if there are none, output -1"
   ]
  },
  {
   "cell_type": "markdown",
   "metadata": {},
   "source": [
    "\n",
    "-   Create 1 new example that demonstrates you understand the problem. Trace/walkthrough 1 example that your partner made and explain it.\n"
   ]
  },
  {
   "cell_type": "code",
   "execution_count": null,
   "metadata": {},
   "outputs": [],
   "source": [
    "#my example :\n",
    "#input tree:\n",
    "# root = treeNode (50)\n",
    "# root.left = treeNode (30)\n",
    "# root.right = treeNode (25)\n",
    "# root.left.left = treeNode (10)\n",
    "# root.left.right = treeNode (12)\n",
    "# root.right.left = treeNode (10)\n",
    "# root.right.right = treeNode (7)\n",
    "# output: 10\n",
    "\n",
    "#Ronak's example:\n",
    "# root = TreeNode(10)\n",
    "# root.left = TreeNode(9)\n",
    "# root.right = TreeNode(8)\n",
    "# root.left.left = TreeNode(15)\n",
    "# root.left.right = TreeNode(15)\n",
    "# root.left.left.left = TreeNode(7)\n",
    "# root.right.left = TreeNode(12)\n",
    "# root.right.right = TreeNode(21)\n",
    "# root.right.right.right = TreeNode(7)\n",
    "#output: 15\n",
    "\n",
    "#the code starts at the root and traverses through each node of the subtrees, recording the value of each node\n",
    "#it checks the value of each new node against previously visited nodes\n",
    "#when it encounters a matching value, it spits out the value as the output (15)\n",
    "#if no matches are found, after the whole tree has been traversed through it spits out -1"
   ]
  },
  {
   "cell_type": "markdown",
   "metadata": {},
   "source": [
    "\n",
    "-   Copy the solution your partner wrote. \n"
   ]
  },
  {
   "cell_type": "code",
   "execution_count": 1,
   "metadata": {},
   "outputs": [
    {
     "data": {
      "text/plain": [
       "2"
      ]
     },
     "execution_count": 1,
     "metadata": {},
     "output_type": "execute_result"
    }
   ],
   "source": [
    "# Your answer here\n",
    "# Definition for a binary tree node.\n",
    "class TreeNode(object):\n",
    "    def __init__(self, val = 0, left = None, right = None):\n",
    "        self.val = val\n",
    "        self.left = left\n",
    "        self.right = right\n",
    "\n",
    "\n",
    "\n",
    "def is_duplicate(root: TreeNode) -> int:\n",
    "    def check_duplicate(root_1,val_set):\n",
    "        if not root_1:\n",
    "            return -1\n",
    "\n",
    "        if root_1.val in val_set:\n",
    "            return root_1.val\n",
    "        \n",
    "        val_set.add(root_1.val)\n",
    "        # print(val_set)\n",
    "\n",
    "        left_check = check_duplicate(root_1.left,val_set)\n",
    "        if left_check != -1:\n",
    "            return left_check\n",
    "        \n",
    "        right_check = check_duplicate(root_1.right, val_set)\n",
    "        return right_check\n",
    "\n",
    "        # print(root.val, end= \" \")\n",
    "\n",
    "    val_set = set()\n",
    "    return check_duplicate(root,val_set)\n",
    "   \n",
    "\n",
    "root = TreeNode(1)\n",
    "root.left = TreeNode(2)\n",
    "root.right = TreeNode(2)\n",
    "root.left.left = TreeNode(3)\n",
    "root.left.right = TreeNode(10)\n",
    "root.right.left = TreeNode(6)\n",
    "root.right.right = TreeNode(7)\n",
    "\n",
    "is_duplicate(root)"
   ]
  },
  {
   "cell_type": "markdown",
   "metadata": {},
   "source": [
    "\n",
    "-   Explain why their solution works in your own words.\n"
   ]
  },
  {
   "cell_type": "code",
   "execution_count": null,
   "metadata": {},
   "outputs": [
    {
     "data": {
      "text/plain": [
       "'the is_duplicate function starts at the root and if the root is empty, will return -1 and exit the function.\\nif not, it will traverse through the left and right branches, adding each node value to a set val_set, and checking each subequent\\nvalue against the values stored in val_set and recursively calls itself until the whole tree has been checked or a duplicate value has been encountered\\n\\nhowever the question asks for the duplicate closest to the root to be spit out, and this function will only detect the duplicate when it encounters the\\nsecond value which is further away from the root. So Perhaps postorder traversal of the tree or starting from the leaves and reaching the root might \\naid in satisfying the requirements of the assignment?\\n'"
      ]
     },
     "execution_count": 3,
     "metadata": {},
     "output_type": "execute_result"
    }
   ],
   "source": [
    "'''the is_duplicate function starts at the root and if the root is empty, will return -1 and exit the function.\n",
    "if not, it will traverse through the left and right branches, adding each node value to a set val_set, and checking each subequent\n",
    "value against the values stored in val_set and recursively calls itself until the whole tree has been checked or a duplicate value has been encountered\n",
    "\n",
    "\n",
    "'''"
   ]
  },
  {
   "cell_type": "markdown",
   "metadata": {},
   "source": [
    "\n",
    "-   Explain the problem’s time and space complexity in your own words.\n"
   ]
  },
  {
   "cell_type": "code",
   "execution_count": 5,
   "metadata": {},
   "outputs": [],
   "source": [
    "#The space and time complexity are both O(n)\n",
    "#the functions traverses through n nodes of a tree and stores values in a set that is of size n"
   ]
  },
  {
   "cell_type": "markdown",
   "metadata": {},
   "source": [
    "\n",
    "-   Critique your partner's solution, including explanation, and if there is anything that should be adjusted.\n"
   ]
  },
  {
   "cell_type": "code",
   "execution_count": 4,
   "metadata": {},
   "outputs": [],
   "source": [
    "#  the question asks for the duplicate closest to the root to be spit out, and this function will only detect the duplicate when it encounters the\n",
    "# second value which is further away from the root. So Perhaps postorder traversal of the tree or starting from the leaves and reaching the root might \n",
    "# aid in satisfying the requirements of the assignment?"
   ]
  },
  {
   "cell_type": "markdown",
   "metadata": {},
   "source": [
    "\n",
    "## Part 3:\n",
    "\n",
    "Please write a 200 word reflection documenting your process from assignment 1, and your presentation and review experience with your partner at the bottom of the Jupyter Notebook under a new heading \"Reflection.\" Again, export this Notebook as pdf.\n"
   ]
  },
  {
   "cell_type": "markdown",
   "metadata": {},
   "source": [
    "### Reflection"
   ]
  },
  {
   "cell_type": "code",
   "execution_count": null,
   "metadata": {},
   "outputs": [],
   "source": [
    "# please see attached pdf"
   ]
  },
  {
   "cell_type": "markdown",
   "metadata": {},
   "source": [
    "\n",
    "## Evaluation Criteria\n",
    "\n",
    "We are looking for the similar points as Assignment 1\n",
    "\n",
    "-   Problem is accurately stated\n",
    "\n",
    "-   New example is correct and easily understandable\n",
    "\n",
    "-   Correctness, time, and space complexity of the coding solution\n",
    "\n",
    "-   Clarity in explaining why the solution works, its time and space complexity\n",
    "\n",
    "-   Quality of critique of your partner's assignment, if necessary\n"
   ]
  },
  {
   "cell_type": "markdown",
   "metadata": {},
   "source": [
    "## Submission Information\n",
    "\n",
    "🚨 **Please review our [Assignment Submission Guide](https://github.com/UofT-DSI/onboarding/blob/main/onboarding_documents/submissions.md)** 🚨 for detailed instructions on how to format, branch, and submit your work. Following these guidelines is crucial for your submissions to be evaluated correctly.\n",
    "\n",
    "### Submission Parameters:\n",
    "* Submission Due Date: `HH:MM AM/PM - DD/MM/YYYY`\n",
    "* The branch name for your repo should be: `assignment-2`\n",
    "* What to submit for this assignment:\n",
    "    * This Jupyter Notebook (assignment_2.ipynb) should be populated and should be the only change in your pull request.\n",
    "* What the pull request link should look like for this assignment: `https://github.com/<your_github_username>/algorithms_and_data_structures/pull/<pr_id>`\n",
    "    * Open a private window in your browser. Copy and paste the link to your pull request into the address bar. Make sure you can see your pull request properly. This helps the technical facilitator and learning support staff review your submission easily.\n",
    "\n",
    "Checklist:\n",
    "- [ ] Created a branch with the correct naming convention.\n",
    "- [ ] Ensured that the repository is public.\n",
    "- [ ] Reviewed the PR description guidelines and adhered to them.\n",
    "- [ ] Verify that the link is accessible in a private browser window.\n",
    "\n",
    "If you encounter any difficulties or have questions, please don't hesitate to reach out to our team via our Slack at `#cohort-3-help`. Our Technical Facilitators and Learning Support staff are here to help you navigate any challenges.\n"
   ]
  }
 ],
 "metadata": {
  "kernelspec": {
   "display_name": "dsi_participant",
   "language": "python",
   "name": "python3"
  },
  "language_info": {
   "codemirror_mode": {
    "name": "ipython",
    "version": 3
   },
   "file_extension": ".py",
   "mimetype": "text/x-python",
   "name": "python",
   "nbconvert_exporter": "python",
   "pygments_lexer": "ipython3",
   "version": "3.9.18"
  }
 },
 "nbformat": 4,
 "nbformat_minor": 2
}
