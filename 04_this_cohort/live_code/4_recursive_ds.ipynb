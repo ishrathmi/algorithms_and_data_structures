{
 "cells": [
  {
   "cell_type": "code",
   "execution_count": null,
   "id": "d4535d7f-0f09-4ff9-9bb3-ea8b9584d4bc",
   "metadata": {},
   "outputs": [],
   "source": [
    "#Recursive function review"
   ]
  },
  {
   "cell_type": "code",
   "execution_count": null,
   "id": "5828bac7-4fbd-4ccc-aac4-60b3e9b72ba9",
   "metadata": {},
   "outputs": [],
   "source": [
    "# Recrusion is where you call a function within itself, in order to solve complicated tasks in a simpler way\n",
    "# def a_function():\n",
    "#     ...\n",
    "#     if ... :\n",
    "#          a_function()"
   ]
  },
  {
   "cell_type": "code",
   "execution_count": 1,
   "id": "b8500d5d-2ea7-4d83-8f5b-dc91e93369f4",
   "metadata": {},
   "outputs": [],
   "source": [
    "# Reverse a string\n",
    "# reverse_string(\"hello\") -> \"olleh\"\n",
    "def reverse_string(s):\n",
    "    # base: empty string, or a string of length 1\n",
    "    if len(s) <= 1:\n",
    "        return s\n",
    "    else:\n",
    "        # Recursive case: reverse of s is: reverse(s[1:]) + s[0] : reverse(\"ello\") + h \n",
    "        return reverse_string(s[1:]) + s[0]"
   ]
  },
  {
   "cell_type": "code",
   "execution_count": 2,
   "id": "26a6f174-37c7-423c-a7c0-017f66d04c12",
   "metadata": {},
   "outputs": [
    {
     "data": {
      "text/plain": [
       "'olleh'"
      ]
     },
     "execution_count": 2,
     "metadata": {},
     "output_type": "execute_result"
    }
   ],
   "source": [
    "reverse_string(\"hello\")"
   ]
  },
  {
   "cell_type": "code",
   "execution_count": 10,
   "id": "e7cc6be5-4619-4225-b9d7-70ab3565b4c0",
   "metadata": {},
   "outputs": [],
   "source": [
    "# Calculate the power of number using recursion\n",
    "# exponent can not be negative\n",
    "# pre-condition: exponent needs to be an integer\n",
    "def power(base, exponent):\n",
    "    #base case:\n",
    "    if exponent == 0:\n",
    "        return 1\n",
    "    else: \n",
    "        # recursive\n",
    "        return base * power(base, exponent-1)"
   ]
  },
  {
   "cell_type": "code",
   "execution_count": 22,
   "id": "e3bca7c1-841f-42a6-a545-5893163bf698",
   "metadata": {},
   "outputs": [],
   "source": [
    "# Count occurances in a list\n",
    "# return if value is inside list (using recursion, and not using \"in\")\n",
    "# Returns True/False\n",
    "def is_value_inside_list(lst, value):\n",
    "    if len(lst) == 0:\n",
    "        return False\n",
    "    else:    \n",
    "        return (lst[0] == value) or is_value_inside_list(lst[1:], value)\n",
    "\n",
    "def count_value_inside_lst(lst, value):\n",
    "    if len(lst) == 0:\n",
    "        return 0\n",
    "    else:\n",
    "        if lst[0] == value:\n",
    "            return 1 + count_value_inside_lst(lst[1:], value)\n",
    "        else:\n",
    "            return count_value_inside_lst(lst[1:], value)\n",
    "            "
   ]
  },
  {
   "cell_type": "code",
   "execution_count": 23,
   "id": "607f3743-cbbc-4817-9e32-20fcb159f28e",
   "metadata": {},
   "outputs": [
    {
     "data": {
      "text/plain": [
       "False"
      ]
     },
     "execution_count": 23,
     "metadata": {},
     "output_type": "execute_result"
    }
   ],
   "source": [
    "is_value_inside_list([1, 2, 3, 4, 5, 6, 7, 8], 9)"
   ]
  },
  {
   "cell_type": "code",
   "execution_count": 25,
   "id": "29d263f5-a404-4d31-ac61-57d0e0515709",
   "metadata": {},
   "outputs": [
    {
     "data": {
      "text/plain": [
       "0"
      ]
     },
     "execution_count": 25,
     "metadata": {},
     "output_type": "execute_result"
    }
   ],
   "source": [
    "count_value_inside_lst([1, 2, 3, 4, 5, 5, 5, 6, 5, 6, 7, 8], 0)"
   ]
  },
  {
   "cell_type": "code",
   "execution_count": 29,
   "id": "b1a31978-e731-48f9-a331-3ed53288bd5e",
   "metadata": {},
   "outputs": [],
   "source": [
    "#Leetcode style question 1:\n",
    "# You are climbing a staircase. It takes n steps to reach the top.\n",
    "# Each time you can either climb 1 step or 2 steps. \n",
    "# What are the distinct ways can you reach the top?\n",
    "def climb_stairs(n: int) -> int:\n",
    "    pathways = []\n",
    "    climb_stairs_rec(n, pathways, [])\n",
    "    return pathways\n",
    "\n",
    "def climb_stairs_rec(n: int, pathways: list, current_pathway: list):\n",
    "    if n == 0:\n",
    "        if len(current_pathway) != 0:\n",
    "            pathways.append(current_pathway)\n",
    "    else:\n",
    "        if n >= 2:\n",
    "            climb_stairs_rec(n-2, pathways, current_pathway + [2])\n",
    "            climb_stairs_rec(n-1, pathways, current_pathway + [1])\n",
    "        else:\n",
    "            climb_stairs_rec(n-1, pathways, current_pathway + [1])\n",
    "            \n",
    "            \n",
    "\n",
    "    "
   ]
  },
  {
   "cell_type": "code",
   "execution_count": 33,
   "id": "b4956a14-efbf-4b6c-85b9-b62dbe3314bc",
   "metadata": {},
   "outputs": [
    {
     "data": {
      "text/plain": [
       "987"
      ]
     },
     "execution_count": 33,
     "metadata": {},
     "output_type": "execute_result"
    }
   ],
   "source": [
    "len(climb_stairs(15))"
   ]
  },
  {
   "cell_type": "code",
   "execution_count": 36,
   "id": "24d357bd-a283-4f10-ad17-58f1fcb16a46",
   "metadata": {},
   "outputs": [],
   "source": [
    "#Leetcode style question 2:\n",
    "# Do binary search over a list (nums is sorted)\n",
    "def binary_search(nums: list[int], target: int) -> int:\n",
    "    return binary_search_rec(nums, target, 0, len(nums))\n",
    "\n",
    "\n",
    "def binary_search_rec(nums, target, start, end):\n",
    "    if end - start == 0:\n",
    "        return -1\n",
    "    elif end - start == 1:\n",
    "        if nums[start] == target:\n",
    "            return start\n",
    "        else:\n",
    "            return -1\n",
    "    else:\n",
    "        midpoint = (end+start)//2\n",
    "        if nums[midpoint] == target:\n",
    "            return midpoint\n",
    "        elif nums[midpoint] < target:\n",
    "            # our target is on the right side\n",
    "            return binary_search_rec(nums, target, midpoint+1, end)\n",
    "        else:\n",
    "            # our target is on the left side\n",
    "            return binary_search_rec(nums, target, start, midpoint)"
   ]
  },
  {
   "cell_type": "code",
   "execution_count": 40,
   "id": "533f030e-c102-4dfe-a818-a621be961bcd",
   "metadata": {},
   "outputs": [
    {
     "data": {
      "text/plain": [
       "-1"
      ]
     },
     "execution_count": 40,
     "metadata": {},
     "output_type": "execute_result"
    }
   ],
   "source": [
    "binary_search([1, 2, 3, 4, 5, 6, 7, 8, 9, 10, 15, 18, 20, 59, 100], 60)"
   ]
  },
  {
   "cell_type": "code",
   "execution_count": null,
   "id": "8f1bf68f-01d5-4d11-a994-d47ca30ddafd",
   "metadata": {},
   "outputs": [],
   "source": []
  },
  {
   "cell_type": "markdown",
   "id": "e606b619-c770-4437-9a7e-b5af87141aaf",
   "metadata": {},
   "source": [
    "# Recursive Data Structures\n",
    "\n",
    "## Outline\n",
    "\n",
    "-   Trees\n",
    "\n",
    "-   Anatomy, tree traversal methods\n",
    "\n",
    "-   Binary Search Trees\n",
    "\n",
    "-   Graphs\n",
    "\n",
    "-   Nearest Neighbor Problem\n",
    "\n",
    "# Trees\n",
    "\n",
    "## Introduction to Trees\n",
    "\n",
    "-   Not all data has a natural linear order. Organization charts and\n",
    "    file storage systems have a *hierarchical structure*, in which each\n",
    "    entity is linked to multiple entities below it\n",
    "\n",
    "-   This type of data is represented using a *tree*. A tree is either\n",
    "\n",
    "    -   Empty\n",
    "\n",
    "    -   Has a *root value* connected to any number of other trees,\n",
    "        called *subtrees*\n",
    "\n",
    "-   We draw the root at the top of the tree\n",
    "\n",
    "## Anatomy of a Tree\n",
    "\n",
    "-   The *size* of a tree is the number of values in the tree\n",
    "\n",
    "-   A *leaf* is a value with no subtrees. The leaves of this tree are\n",
    "    labeled E, F, G, J, and I\n",
    "\n",
    "-   The *height* of a tree is the longest path from its root to its\n",
    "    leaves. The height of this tree is 4\n",
    "\n",
    "![](./images/tree.png)\n",
    "\n",
    "## Anatomy of a Tree\n",
    "\n",
    "-   The *children* of a value are all values directly connected\n",
    "    underneath that value. The children of A are B, C, and D\n",
    "\n",
    "-   The *descendants* of a value are it’s children, the children of its\n",
    "    children, etc. This can be defined recursively\n",
    "\n",
    "-   The *parent* of a value is the value immediately above and connected\n",
    "    to it. The parent of H is C\n",
    "\n",
    "-   The *ancestors* of a value are its parent, the parent of its parent,\n",
    "    etc.\n",
    "\n",
    "![](./images/tree.png)\n",
    "\n",
    "## Tree Traversal Methods\n",
    "\n",
    "-   Linear data structures only have one logical way to traverse them.\n",
    "    Trees can be traversed in different ways\n",
    "\n",
    "-   We’ll look at the following methods of tree traversal and their\n",
    "    applications\n",
    "\n",
    "    -   *Depth First Search* (DFS): Inorder, Preorder, and Postorder\n",
    "        traversal\n",
    "\n",
    "    -   *Breadth First Search* (BFS)\n",
    "\n",
    "-   Note there are other methods not covered\n",
    "\n",
    "## DFS: Inorder Traversal\n",
    "\n",
    "1.  Traverse the left subtree\n",
    "\n",
    "2.  Visit the root\n",
    "\n",
    "3.  Traverse the right subtree\n",
    "\n",
    "**Result: 4 2 5 1 6 3**\n",
    "\n",
    "![](./images/tree_num.png)\n",
    "\n",
    "## DFS: Inorder Traversal Code\n",
    "\n",
    "Let’s look at the code to do this"
   ]
  },
  {
   "cell_type": "code",
   "execution_count": 50,
   "id": "4914a874",
   "metadata": {},
   "outputs": [],
   "source": [
    "class Node:\n",
    "  \"\"\"Tree class\n",
    "  \"\"\"\n",
    "  def __init__(self, key):\n",
    "    self.left = None\n",
    "    self.right = None\n",
    "    self.val = key\n",
    "    \n",
    "def print_inorder(root):\n",
    "  if root:\n",
    "    print_inorder(root.left)\n",
    "    print(root.val, end = \" \")\n",
    "    print_inorder(root.right)\n",
    "\n",
    "def print_preorder(root):\n",
    "  if root:\n",
    "    print(root.val, end = \" \")\n",
    "    print_preorder(root.left)\n",
    "    print_preorder(root.right)\n",
    "\n",
    "def print_postorder(root):\n",
    "  if root:\n",
    "    print_postorder(root.left)\n",
    "    print_postorder(root.right)\n",
    "    print(root.val, end = \" \")"
   ]
  },
  {
   "cell_type": "markdown",
   "id": "abb121a0-9014-4411-8250-bb0fe5a46eee",
   "metadata": {},
   "source": [
    "## DFS: Inorder Traversal Code"
   ]
  },
  {
   "cell_type": "code",
   "execution_count": 51,
   "id": "8e4b78cb",
   "metadata": {},
   "outputs": [
    {
     "name": "stdout",
     "output_type": "stream",
     "text": [
      "4 2 5 1 6 3 "
     ]
    }
   ],
   "source": [
    "root = Node(1)\n",
    "root.left = Node(2)\n",
    "root.right = Node(3)\n",
    "root.left.left = Node(4)\n",
    "root.left.right = Node(5)\n",
    "root.right.left = Node(6)\n",
    "print_inorder(root) #4 2 5 1 6 3"
   ]
  },
  {
   "cell_type": "code",
   "execution_count": 52,
   "id": "27f0a0f6-e266-454b-a35f-504f3c7a49a5",
   "metadata": {},
   "outputs": [
    {
     "name": "stdout",
     "output_type": "stream",
     "text": [
      "1 2 4 5 3 6 "
     ]
    }
   ],
   "source": [
    "print_preorder(root) "
   ]
  },
  {
   "cell_type": "code",
   "execution_count": 53,
   "id": "79f3f035-b817-490a-9ed8-35c5b4252353",
   "metadata": {},
   "outputs": [
    {
     "name": "stdout",
     "output_type": "stream",
     "text": [
      "4 5 2 6 3 1 "
     ]
    }
   ],
   "source": [
    "print_postorder(root) "
   ]
  },
  {
   "cell_type": "markdown",
   "id": "91306dbf-a4f2-47f3-a88a-1c5da831baae",
   "metadata": {},
   "source": [
    "In binary search trees (next section), inorder traversal gives the nodes\n",
    "in a non-decreasing order.\n",
    "\n",
    "## DFS: Inorder Traversal Complexity\n",
    "\n",
    "Time complexity\n",
    "\n",
    "-   Each node is visited exactly once. The work done at each node is\n",
    "    constant. $O(n)$\n",
    "\n",
    "Space complexity\n",
    "\n",
    "-   Dependent on the maximum depth of the recursion, which is the height\n",
    "    of the tree. $O(h)$\n",
    "\n",
    "## DFS: Preorder Traversal\n",
    "\n",
    "1.  Visit the root\n",
    "\n",
    "2.  Traverse the left subtree\n",
    "\n",
    "3.  Traverse the right subtree\n",
    "\n",
    "**Result: 1 2 4 5 3 6**\n",
    "\n",
    "Preorder traversal is used to create a copy of the tree\n",
    "\n",
    "![](./images/tree_num.png)\n",
    "\n",
    "## DFS: Postorder Traversal\n",
    "\n",
    "1.  Traverse the left subtree\n",
    "\n",
    "2.  Traverse the right subtree\n",
    "\n",
    "3.  Visit the root\n",
    "\n",
    "**Result: 4 5 2 6 3 1**\n",
    "\n",
    "Preorder traversal is used to delete subtrees. (why?)\n",
    "\n",
    "![](./images/tree_num.png)\n",
    "\n",
    "## BFS\n",
    "\n",
    "BFS (or Level Order Traversal) traverses nodes present in the same level\n",
    "before traversing the next level\n",
    "\n",
    "1.  For each node\n",
    "\n",
    "-   The node is visited\n",
    "\n",
    "-   The child nodes are enqueued in a FIFO queue\n",
    "\n",
    "1.  First node is dequeued\n",
    "\n",
    "2.  Child nodes are enqueued\n",
    "\n",
    "3.  Repeat until the queue is empty\n",
    "\n",
    "**Result: 1 2 3 4 5 6**\n",
    "\n",
    "![](./images/tree_num.png)\n",
    "\n",
    "# Binary Search Trees\n",
    "\n",
    "## BST Definitions\n",
    "\n",
    "-   You can think of a BST as a sorted tree\n",
    "\n",
    "-   A *binary tree* is a tree in which every item has at most two\n",
    "    subtrees\n",
    "\n",
    "    -   The tree used in illustrating DFS and BFS methods is a binary\n",
    "        tree\n",
    "\n",
    "-   A binary tree is a *binary search tree property* if its value is\n",
    "    greater than or equal to all items in the left subtree and its value is less than all items in the right subtree\n",
    "\n",
    "-   A binary tree is a *binary search tree* if every item in the tree\n",
    "    satisfies the binary search tree property\n",
    "\n",
    "## BST Efficiency\n",
    "\n",
    "-   Consider the BST on the right. Verify that it is a BST.\n",
    "\n",
    "-   The worst-case run time is $O(h)$, $h$ being the height of the tree\n",
    "\n",
    "    -   So the tree on the right is $O(n)$\n",
    "\n",
    "-   A tree of height $h$ can have at most $2^h - 1$ nodes. So we need at\n",
    "    least log$n$ height to store all of them.\n",
    "\n",
    "    -   So if the tree was balanced, then it would be $O(\\text{log}n)$\n",
    "\n",
    "![](./images/tree_unbal.png)\n",
    "\n",
    "## BST Efficiency\n",
    "\n",
    "-   Convince yourself that for a balanced BST the search, insert, and\n",
    "    delete Big-O is all $O(\\text{log}n)$\n",
    "\n",
    "-   Ensuring that a tree is balanced is important\n",
    "\n",
    "    -   Red-Black trees (not covered) are trees that balance themselves\n",
    "\n",
    "    -   You may also be interested in B-trees, which are used in\n",
    "        databases\n",
    "\n",
    "## Live Coding\n",
    "\n",
    "Given a BST, insert a new node in this BST.\n",
    "\n",
    "![](./images/insertion.png)\n"
   ]
  },
  {
   "cell_type": "code",
   "execution_count": 1,
   "id": "0fffca91",
   "metadata": {},
   "outputs": [],
   "source": [
    "# Your code here\n",
    "class Node:\n",
    "  \"\"\"Tree class\n",
    "  \"\"\"\n",
    "  def __init__(self, key):\n",
    "    self.left = None\n",
    "    self.right = None\n",
    "    self.val = key\n",
    "    "
   ]
  },
  {
   "cell_type": "code",
   "execution_count": 2,
   "id": "e6b33d8d-6829-413b-bef1-346ab36d02d0",
   "metadata": {},
   "outputs": [],
   "source": [
    "root = Node(100)\n",
    "root.left  = Node(20)\n",
    "root.left.left = Node(10)\n",
    "root.left.right = Node(30)\n",
    "root.right = Node(500)\n"
   ]
  },
  {
   "cell_type": "code",
   "execution_count": 3,
   "id": "e8d4a702-61d4-44c0-92d2-3a8ce1b9c763",
   "metadata": {},
   "outputs": [],
   "source": [
    "def bst_insert(root, value):\n",
    "    if root:\n",
    "        if root.val >= value:\n",
    "            if root.left:\n",
    "                bst_insert(root.left, value)\n",
    "            else:\n",
    "                root.left = Node(value)\n",
    "        else:\n",
    "            if root.right:\n",
    "                bst_insert(root.right, value)\n",
    "            else:\n",
    "                root.right = Node(value)\n",
    "    else:\n",
    "        return Node(value)"
   ]
  },
  {
   "cell_type": "code",
   "execution_count": 4,
   "id": "73ae8b8d-2db6-4cb8-85b4-132ff286a22a",
   "metadata": {},
   "outputs": [],
   "source": [
    "bst_insert(root, 40)"
   ]
  },
  {
   "cell_type": "code",
   "execution_count": 5,
   "id": "f61b884e-693b-4f0a-b5df-5f8adbe20cee",
   "metadata": {},
   "outputs": [
    {
     "data": {
      "text/plain": [
       "40"
      ]
     },
     "execution_count": 5,
     "metadata": {},
     "output_type": "execute_result"
    }
   ],
   "source": [
    "root.left.right.right.val"
   ]
  },
  {
   "cell_type": "code",
   "execution_count": 63,
   "id": "f77ac7d4-4c67-4c3f-9a3b-70063e82bb3d",
   "metadata": {},
   "outputs": [
    {
     "name": "stdout",
     "output_type": "stream",
     "text": [
      "10 20 30 40 100 500 "
     ]
    }
   ],
   "source": [
    "print_inorder(root)"
   ]
  },
  {
   "cell_type": "markdown",
   "id": "61fb5b0a",
   "metadata": {},
   "source": [
    "\n",
    "# Graphs\n",
    "\n",
    "## Introduction\n",
    "\n",
    "-   We looked at lists and trees, which represent linear and\n",
    "    hierarchical relationships respectively\n",
    "\n",
    "    -   But many relationships are neither\n",
    "\n",
    "    -   Friend networks, internet connections, flight connections\n",
    "\n",
    "-   Graphs consist of two parts, *nodes* and *edges*\n",
    "\n",
    "    -   A node connected to another is a *neighbor*\n",
    "\n",
    "![](./images/graph_anat.png)\n",
    "\n",
    "## Types of Graphs\n",
    "\n",
    "There are directed and undirected graphs to represent different\n",
    "situations\n",
    "\n",
    "-   Friendships: undirected\n",
    "\n",
    "-   Twitter followers: directed\n",
    "\n",
    "-   Who owes who money: directed\n",
    "\n",
    "-   Note that trees are special cases of directed graphs\n",
    "\n",
    "Graphs can also be weighted, to differentiate strengths between nodes\n",
    "\n",
    "There are two questions we ask about graphs: Is there a path from node A\n",
    "to B? What is the shortest path from node A to B? BFS answers both!\n",
    "\n",
    "![](./images/graph_weight.png)\n",
    "\n",
    "## BFS of Graphs\n",
    "\n",
    "-   *Breadth First Search* (BFS) searches graph for a node that meets a\n",
    "    set of criteria. It starts at the root of the graph and visits all\n",
    "    nodes at the current depth level before moving on to the nodes at\n",
    "    the next depth level\n",
    "\n",
    "    -   If there are multiple nodes meeting the criteria, then BFS will\n",
    "        also find the nearest node!\n",
    "\n",
    "-   The issue is that graphs contain *cycles*, so we may visit the same\n",
    "    node more than once\n",
    "\n",
    "    -   Let’s split nodes into visited and not visited\n",
    "\n",
    "-   We use a list to keep track of visited nodes\n",
    "\n",
    "-   All the adjacent unvisited nodes of the current level are pushed\n",
    "    into the queue and the nodes of the current level are marked visited\n",
    "    and popped from the queue\n",
    "\n",
    "-   Is BFS a recursive or iterative graph search method?\n",
    "\n",
    "## BFS Example\n",
    "\n",
    "-   Let’s traverse a graph with BFS starting at node “1”\n",
    "\n",
    "-   Visited list and queue start as empty\n",
    "\n",
    "Visited: \\[ , , , , \\]\n",
    "\n",
    "Queue: \\[ , , , , \\]\n",
    "\n",
    "![](./images/graph_bfs.png)\n",
    "\n",
    "## BFS Example\n",
    "\n",
    "-   We’re at node 1, so we push it onto the visited list and push it\n",
    "    onto the queue\n",
    "\n",
    "Visited: \\[1, , , , \\]\n",
    "\n",
    "Queue: \\[1, , , , \\]\n",
    "\n",
    "![](./images/graph_bfs.png)\n",
    "\n",
    "## BFS Example\n",
    "\n",
    "-   Now we visited 1, so it is dequeued.\n",
    "\n",
    "-   At the first level away from node 1, there is 3 and 6.\n",
    "\n",
    "-   We visit 3 and 6, but we have not visited any of it’s neighbors\n",
    "    (other than 1), so 3 and 6 are enqueued.\n",
    "\n",
    "Visited: \\[1, 3, 6, , \\]\n",
    "\n",
    "Queue: \\[3, 6, , , \\]\n",
    "\n",
    "![](./images/graph_bfs.png)\n",
    "\n",
    "## BFS Example\n",
    "\n",
    "-   Visit the neighbors of node 3, so we dequeue it\n",
    "\n",
    "-   But we need to enqueue 10, because we haven’t visited its neighbors\n",
    "\n",
    "Visited: \\[1, 3, 6, 10, \\]\n",
    "\n",
    "Queue: \\[6, 10, , \\]\n",
    "\n",
    "![](./images/graph_bfs.png)\n",
    "\n",
    "## BFS Example\n",
    "\n",
    "-   Visit the neighbors of node 6, which is just 7, so we dequeue it\n",
    "\n",
    "-   But we need to enqueue 7\n",
    "\n",
    "Visited: \\[1, 3, 6, 10, 7\\]\n",
    "\n",
    "Queue: \\[10, 7, , \\]\n",
    "\n",
    "![](./images/graph_bfs.png)\n",
    "\n",
    "## BFS Example\n",
    "\n",
    "-   Visit the neighbors of node 10, and dequeue 10\n",
    "\n",
    "-   But we already visited those nodes, so the visited list does not\n",
    "    change\n",
    "\n",
    "Visited: \\[1, 3, 6, 10, 7\\]\n",
    "\n",
    "Queue: \\[7, , , , \\]\n",
    "\n",
    "![](./images/graph_bfs.png)\n",
    "\n",
    "## BFS Example\n",
    "\n",
    "-   Visit neighbors of 7, which are also all visited\n",
    "\n",
    "-   The queue is empty, so the algorithm ends\n",
    "\n",
    "Visited: \\[1, 3, 6, 10, 7\\]\n",
    "\n",
    "Queue: \\[ , , , , \\]\n",
    "\n",
    "![](./images/graph_bfs.png)\n",
    "\n",
    "## Time and Space Complexity of BFS\n",
    "\n",
    "-   Each edge and each node must be visited once, so the time complexity\n",
    "    is $O(n + e)$\n",
    "\n",
    "-   Since we need to store each node of the graph by the end of the\n",
    "    algorithm, the space complexity is $O(n)$\n",
    "\n",
    "## Implementing Graphs and BFS\n",
    "\n",
    "We can represent graphs using the *adjacency list* representation\n",
    "\n",
    "-   Other options include adjacency matrix or using a Python library"
   ]
  },
  {
   "cell_type": "code",
   "execution_count": 66,
   "id": "23428e44",
   "metadata": {},
   "outputs": [],
   "source": [
    "from collections import deque\n",
    "\n",
    "class Graph:\n",
    "  def __init__(self):\n",
    "    self.graph = {}\n",
    "\n",
    "  def add_edge(self, vertex, neighbors):\n",
    "    self.graph[vertex] = neighbors"
   ]
  },
  {
   "cell_type": "markdown",
   "id": "9f393b7b-3af9-4a07-861c-9e14bc7bea47",
   "metadata": {},
   "source": [
    "## Implementing Graphs and BFS"
   ]
  },
  {
   "cell_type": "code",
   "execution_count": 67,
   "id": "32ada213",
   "metadata": {},
   "outputs": [],
   "source": [
    "def bfs(graph, start):\n",
    "  visited = set()\n",
    "  queue = deque([start])\n",
    "\n",
    "  while queue:\n",
    "    current_vertex = queue.popleft()\n",
    "\n",
    "    if current_vertex not in visited:\n",
    "      # Process the current vertex\n",
    "      print(current_vertex, end=' ')\n",
    "      visited.add(current_vertex)\n",
    "\n",
    "      # Enqueue unvisited neighbors\n",
    "      for neighbor in graph.graph.get(current_vertex, []):\n",
    "        if neighbor not in visited:\n",
    "          queue.append(neighbor)"
   ]
  },
  {
   "cell_type": "markdown",
   "id": "3965d53d-8ca1-4372-8e0b-35a2a1486159",
   "metadata": {},
   "source": [
    "## Implementing Graphs and BFS"
   ]
  },
  {
   "cell_type": "code",
   "execution_count": 68,
   "id": "3b8d278a",
   "metadata": {},
   "outputs": [
    {
     "name": "stdout",
     "output_type": "stream",
     "text": [
      "1 3 6 10 7 "
     ]
    }
   ],
   "source": [
    "# Represent graph from above\n",
    "ex_graph = Graph()\n",
    "ex_graph.add_edge(1, [3, 6])\n",
    "ex_graph.add_edge(3, [10, 6])\n",
    "ex_graph.add_edge(6, [3, 7])\n",
    "ex_graph.add_edge(10, [3, 7])\n",
    "ex_graph.add_edge(7, [10, 6])\n",
    "\n",
    "# Perform BFS starting from vertex 1\n",
    "bfs(ex_graph, 1)"
   ]
  },
  {
   "cell_type": "markdown",
   "id": "909bfd55-42c3-4c3c-8279-6489791e4f51",
   "metadata": {},
   "source": [
    "## Recursive Graph Search: Preorder Traversal\n",
    "\n",
    "-   Using the same `Graph` class, let’s implement preorder traversal"
   ]
  },
  {
   "cell_type": "code",
   "execution_count": 69,
   "id": "d883118d",
   "metadata": {},
   "outputs": [],
   "source": [
    "def recursive_preorder_traversal(graph, start, visited=None):\n",
    "  if visited is None:\n",
    "    visited = set()\n",
    "\n",
    "  # Process the current vertex\n",
    "  print(start, end=' ')\n",
    "  visited.add(start)\n",
    "\n",
    "    # Recursive traversal of neighbors\n",
    "  for neighbor in graph.graph.get(start, []):\n",
    "    if neighbor not in visited:\n",
    "      recursive_preorder_traversal(graph, neighbor, visited)"
   ]
  },
  {
   "cell_type": "markdown",
   "id": "60bf08d2-4747-41c3-b128-ff00d1bc771d",
   "metadata": {},
   "source": [
    "## Recursive Graph Search: Preorder Traversal"
   ]
  },
  {
   "cell_type": "code",
   "execution_count": 70,
   "id": "c4b48ff8",
   "metadata": {},
   "outputs": [
    {
     "name": "stdout",
     "output_type": "stream",
     "text": [
      "1 3 6 10 7 "
     ]
    }
   ],
   "source": [
    "bfs(ex_graph, 1)"
   ]
  },
  {
   "cell_type": "markdown",
   "id": "c3b6c651-0046-4740-babf-41a312cf51bc",
   "metadata": {},
   "source": [
    "# Nearest Neighour Problem\n",
    "\n",
    "## Nearest Neighbour Problem\n",
    "\n",
    "-   As you may have encountered already, machine learning and\n",
    "    statistical methods often depend on finding the nearest neighbor to\n",
    "    a data point\n",
    "\n",
    "    -   K-nearest neighbors regression, propensity score matching\n",
    "\n",
    "-   In a $k$ dimensional space, if we conduct a linear search for\n",
    "    points, the running time will be $O(kn)$ for $n$ data points.\n",
    "\n",
    "-   Can we do better?\n",
    "\n",
    "## k-d Trees\n",
    "\n",
    "-   k-d trees is short for k dimensional tree (notation is a bit\n",
    "    unfortunate, different K than KNN)\n",
    "\n",
    "    -   It is useful for multidimensional searches\n",
    "\n",
    "-   Let’s discuss the properties of k-d trees and why they work\n",
    "\n",
    "-   Binary tree where each node represents an axis-aligned\n",
    "    hyperrectangle in the k-dimensional space\n",
    "\n",
    "    -   hyperrectangle: rectangle in higher dimensions\n",
    "\n",
    "-   Nodes in the left subtree have coordinates less than the splitting\n",
    "    dimension of the current node, while nodes in the right subtree have\n",
    "    coordinates greater than the splitting dimension.\n",
    "\n",
    "-   At each level of the tree, a specific dimension is chosen to split\n",
    "    the data. The choice of dimension alternates as we traverse down the\n",
    "    tree.\n",
    "\n",
    "-   Each leaf represents a single point in the k-dimensional space\n",
    "\n",
    "## k-d Trees Animation\n",
    "\n",
    "<https://commons.wikimedia.org/wiki/File:KDTree-animation.gif>\n",
    "\n",
    "## Applications and Issues\n",
    "\n",
    "-   Notice k-d trees can also find values within a certain range very\n",
    "    quickly, not just a specific point\n",
    "\n",
    "-   GIS (geographic information systems) queries\n",
    "\n",
    "-   KNN algorithm\n",
    "\n",
    "-   Computer graphics, such as ray tracing to facilitate efficient space\n",
    "    partitioning\n",
    "\n",
    "-   Issues occur in high-dimensional spaces and trees can become\n",
    "    imbalanced\n",
    "\n",
    "# Recommended Problems and References\n",
    "\n",
    "## Recommended Readings\n",
    "\n",
    "-   Bhargava: Chapter 6\n",
    "\n",
    "-   Bhargava: Chapter 11, pages 203 to 206 about Trees\n",
    "\n",
    "## Recommended Problems\n",
    "\n",
    "-   Cormen: Chapter 10 exercises\n",
    "\n",
    "    -   10.3-1, 10.3-2, 10.3-3\n",
    "\n",
    "-   Bhargava: Chapter 6 exercises\n",
    "\n",
    "    -   6.1 to 6.5\n",
    "\n",
    "## Recommended Problems\n",
    "\n",
    "-   Implement preorder, postorder, and level order traversal. Determine\n",
    "    the time and space complexity in each case\n",
    "\n",
    "-   Implement a function that find an element in a BST and deletes it.\n",
    "    The descendants of the deleted node are given to the deleted node’s\n",
    "    parent.\n",
    "\n",
    "-   Using the `graph` class from the slides, implement BST search such\n",
    "    that it stops and tell you the distance the node is from the\n",
    "    starting point.\n",
    "\n",
    "    -   For instance, if we searched for 7 in the graph given in the\n",
    "        slides, it would return `\"Found! Distance 2\"`.\n",
    "\n",
    "    -   If we searched for 100 in the graph, it would return\n",
    "        `\"Not found!\"`\n",
    "\n",
    "-   Implement postorder graph traversal using the `graph` class from the\n",
    "    slides.\n",
    "\n",
    "-   Implement a function using recursion to find the sum heterogeneous\n",
    "    nested lists such as \\[\\[1, \\[2\\]\\], \\[\\[\\[3\\]\\]\\], 4, \\[\\[5, 6\\],\n",
    "    \\[\\[\\[7\\]\\]\\]\\]\\].\n",
    "\n",
    "## References\n",
    "\n",
    "-   Bhargava, A. Y. (2016). *Grokking algorithms: An illustrated guide\n",
    "    for programmers and other curious people.* Manning. Chapter 6, 10,\n",
    "    11.\n",
    "\n",
    "-   Cormen, T. H. (Ed.). (2009). *Introduction to algorithms* (3rd ed).\n",
    "    MIT Press. Chapter 12 and 20.\n",
    "\n",
    "-   Horton, D., & Liu, D. (2023, November 19). *CSC148 Lecture Notes*.\n",
    "    https://www.teach.cs.toronto.edu/~csc148h/winter/notes/"
   ]
  }
 ],
 "metadata": {
  "kernelspec": {
   "display_name": "dsi_participant",
   "language": "python",
   "name": "python3"
  },
  "language_info": {
   "codemirror_mode": {
    "name": "ipython",
    "version": 3
   },
   "file_extension": ".py",
   "mimetype": "text/x-python",
   "name": "python",
   "nbconvert_exporter": "python",
   "pygments_lexer": "ipython3",
   "version": "3.9.18"
  }
 },
 "nbformat": 4,
 "nbformat_minor": 5
}
